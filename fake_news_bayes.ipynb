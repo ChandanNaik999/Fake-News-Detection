{
  "nbformat": 4,
  "nbformat_minor": 0,
  "metadata": {
    "kernelspec": {
      "language": "python",
      "display_name": "Python 3",
      "name": "python3"
    },
    "language_info": {
      "pygments_lexer": "ipython3",
      "nbconvert_exporter": "python",
      "version": "3.6.4",
      "file_extension": ".py",
      "codemirror_mode": {
        "name": "ipython",
        "version": 3
      },
      "name": "python",
      "mimetype": "text/x-python"
    },
    "colab": {
      "name": "math-project.ipynb",
      "provenance": []
    }
  },
  "cells": [
    {
      "cell_type": "markdown",
      "metadata": {
        "id": "3N-JcuGOTfTZ"
      },
      "source": [
        "Programing Code:\n",
        "\n",
        "Colab link [here](https://colab.research.google.com/drive/18pFD1Mf6eGEShq3mEYNvJSdJHYH4cEeh?usp=sharing)\n"
      ]
    },
    {
      "cell_type": "code",
      "metadata": {
        "id": "8D33W5F3zabj",
        "outputId": "c146b72d-5a89-4615-83aa-6af42deb01f2",
        "colab": {
          "base_uri": "https://localhost:8080/"
        }
      },
      "source": [
        "from google.colab import drive\n",
        "drive.mount('/content/gdrive', force_remount=True)"
      ],
      "execution_count": 1,
      "outputs": [
        {
          "output_type": "stream",
          "text": [
            "Mounted at /content/gdrive\n"
          ],
          "name": "stdout"
        }
      ]
    },
    {
      "cell_type": "code",
      "metadata": {
        "id": "QR10HfBWz2Nw",
        "outputId": "f8a17210-bc76-41f7-ddd5-2ad08426fce4",
        "colab": {
          "base_uri": "https://localhost:8080/"
        }
      },
      "source": [
        "!cp /content/gdrive/My\\ Drive/True.csv /content/\n",
        "!cp /content/gdrive/My\\ Drive/Fake.csv /content/\n",
        "!ls "
      ],
      "execution_count": 2,
      "outputs": [
        {
          "output_type": "stream",
          "text": [
            "Fake.csv  gdrive  sample_data  True.csv\n"
          ],
          "name": "stdout"
        }
      ]
    },
    {
      "cell_type": "code",
      "metadata": {
        "trusted": true,
        "id": "wZZqp00ty8iq"
      },
      "source": [
        "import numpy as np # linear algebra\n",
        "import pandas as pd # data processing, CSV file I/O\n",
        "import os\n",
        "truenews = pd.read_csv('True.csv') # the true news dataset\n",
        "fakenews = pd.read_csv('Fake.csv') # fake news dataset"
      ],
      "execution_count": 12,
      "outputs": []
    },
    {
      "cell_type": "code",
      "metadata": {
        "trusted": true,
        "id": "HhAfbbnry8iv",
        "outputId": "bd4dcaca-87ca-4bb2-e7bd-1edc8c2e2a79",
        "colab": {
          "base_uri": "https://localhost:8080/",
          "height": 204
        }
      },
      "source": [
        "fakenews.head()"
      ],
      "execution_count": 13,
      "outputs": [
        {
          "output_type": "execute_result",
          "data": {
            "text/html": [
              "<div>\n",
              "<style scoped>\n",
              "    .dataframe tbody tr th:only-of-type {\n",
              "        vertical-align: middle;\n",
              "    }\n",
              "\n",
              "    .dataframe tbody tr th {\n",
              "        vertical-align: top;\n",
              "    }\n",
              "\n",
              "    .dataframe thead th {\n",
              "        text-align: right;\n",
              "    }\n",
              "</style>\n",
              "<table border=\"1\" class=\"dataframe\">\n",
              "  <thead>\n",
              "    <tr style=\"text-align: right;\">\n",
              "      <th></th>\n",
              "      <th>title</th>\n",
              "      <th>text</th>\n",
              "      <th>subject</th>\n",
              "      <th>date</th>\n",
              "    </tr>\n",
              "  </thead>\n",
              "  <tbody>\n",
              "    <tr>\n",
              "      <th>0</th>\n",
              "      <td>Donald Trump Sends Out Embarrassing New Year’...</td>\n",
              "      <td>Donald Trump just couldn t wish all Americans ...</td>\n",
              "      <td>News</td>\n",
              "      <td>December 31, 2017</td>\n",
              "    </tr>\n",
              "    <tr>\n",
              "      <th>1</th>\n",
              "      <td>Drunk Bragging Trump Staffer Started Russian ...</td>\n",
              "      <td>House Intelligence Committee Chairman Devin Nu...</td>\n",
              "      <td>News</td>\n",
              "      <td>December 31, 2017</td>\n",
              "    </tr>\n",
              "    <tr>\n",
              "      <th>2</th>\n",
              "      <td>Sheriff David Clarke Becomes An Internet Joke...</td>\n",
              "      <td>On Friday, it was revealed that former Milwauk...</td>\n",
              "      <td>News</td>\n",
              "      <td>December 30, 2017</td>\n",
              "    </tr>\n",
              "    <tr>\n",
              "      <th>3</th>\n",
              "      <td>Trump Is So Obsessed He Even Has Obama’s Name...</td>\n",
              "      <td>On Christmas day, Donald Trump announced that ...</td>\n",
              "      <td>News</td>\n",
              "      <td>December 29, 2017</td>\n",
              "    </tr>\n",
              "    <tr>\n",
              "      <th>4</th>\n",
              "      <td>Pope Francis Just Called Out Donald Trump Dur...</td>\n",
              "      <td>Pope Francis used his annual Christmas Day mes...</td>\n",
              "      <td>News</td>\n",
              "      <td>December 25, 2017</td>\n",
              "    </tr>\n",
              "  </tbody>\n",
              "</table>\n",
              "</div>"
            ],
            "text/plain": [
              "                                               title  ...               date\n",
              "0   Donald Trump Sends Out Embarrassing New Year’...  ...  December 31, 2017\n",
              "1   Drunk Bragging Trump Staffer Started Russian ...  ...  December 31, 2017\n",
              "2   Sheriff David Clarke Becomes An Internet Joke...  ...  December 30, 2017\n",
              "3   Trump Is So Obsessed He Even Has Obama’s Name...  ...  December 29, 2017\n",
              "4   Pope Francis Just Called Out Donald Trump Dur...  ...  December 25, 2017\n",
              "\n",
              "[5 rows x 4 columns]"
            ]
          },
          "metadata": {
            "tags": []
          },
          "execution_count": 13
        }
      ]
    },
    {
      "cell_type": "code",
      "metadata": {
        "trusted": true,
        "id": "N43dm1XVy8i0",
        "outputId": "4a20f2b1-1150-40fb-a5ea-771f76ec053c",
        "colab": {
          "base_uri": "https://localhost:8080/",
          "height": 204
        }
      },
      "source": [
        "truenews.head()"
      ],
      "execution_count": 14,
      "outputs": [
        {
          "output_type": "execute_result",
          "data": {
            "text/html": [
              "<div>\n",
              "<style scoped>\n",
              "    .dataframe tbody tr th:only-of-type {\n",
              "        vertical-align: middle;\n",
              "    }\n",
              "\n",
              "    .dataframe tbody tr th {\n",
              "        vertical-align: top;\n",
              "    }\n",
              "\n",
              "    .dataframe thead th {\n",
              "        text-align: right;\n",
              "    }\n",
              "</style>\n",
              "<table border=\"1\" class=\"dataframe\">\n",
              "  <thead>\n",
              "    <tr style=\"text-align: right;\">\n",
              "      <th></th>\n",
              "      <th>title</th>\n",
              "      <th>text</th>\n",
              "      <th>subject</th>\n",
              "      <th>date</th>\n",
              "    </tr>\n",
              "  </thead>\n",
              "  <tbody>\n",
              "    <tr>\n",
              "      <th>0</th>\n",
              "      <td>As U.S. budget fight looms, Republicans flip t...</td>\n",
              "      <td>WASHINGTON (Reuters) - The head of a conservat...</td>\n",
              "      <td>politicsNews</td>\n",
              "      <td>December 31, 2017</td>\n",
              "    </tr>\n",
              "    <tr>\n",
              "      <th>1</th>\n",
              "      <td>U.S. military to accept transgender recruits o...</td>\n",
              "      <td>WASHINGTON (Reuters) - Transgender people will...</td>\n",
              "      <td>politicsNews</td>\n",
              "      <td>December 29, 2017</td>\n",
              "    </tr>\n",
              "    <tr>\n",
              "      <th>2</th>\n",
              "      <td>Senior U.S. Republican senator: 'Let Mr. Muell...</td>\n",
              "      <td>WASHINGTON (Reuters) - The special counsel inv...</td>\n",
              "      <td>politicsNews</td>\n",
              "      <td>December 31, 2017</td>\n",
              "    </tr>\n",
              "    <tr>\n",
              "      <th>3</th>\n",
              "      <td>FBI Russia probe helped by Australian diplomat...</td>\n",
              "      <td>WASHINGTON (Reuters) - Trump campaign adviser ...</td>\n",
              "      <td>politicsNews</td>\n",
              "      <td>December 30, 2017</td>\n",
              "    </tr>\n",
              "    <tr>\n",
              "      <th>4</th>\n",
              "      <td>Trump wants Postal Service to charge 'much mor...</td>\n",
              "      <td>SEATTLE/WASHINGTON (Reuters) - President Donal...</td>\n",
              "      <td>politicsNews</td>\n",
              "      <td>December 29, 2017</td>\n",
              "    </tr>\n",
              "  </tbody>\n",
              "</table>\n",
              "</div>"
            ],
            "text/plain": [
              "                                               title  ...                date\n",
              "0  As U.S. budget fight looms, Republicans flip t...  ...  December 31, 2017 \n",
              "1  U.S. military to accept transgender recruits o...  ...  December 29, 2017 \n",
              "2  Senior U.S. Republican senator: 'Let Mr. Muell...  ...  December 31, 2017 \n",
              "3  FBI Russia probe helped by Australian diplomat...  ...  December 30, 2017 \n",
              "4  Trump wants Postal Service to charge 'much mor...  ...  December 29, 2017 \n",
              "\n",
              "[5 rows x 4 columns]"
            ]
          },
          "metadata": {
            "tags": []
          },
          "execution_count": 14
        }
      ]
    },
    {
      "cell_type": "code",
      "metadata": {
        "trusted": true,
        "id": "AQBMhhUMy8i4",
        "outputId": "ab65ea2d-697c-470d-df65-4b0d0e2b4abb",
        "colab": {
          "base_uri": "https://localhost:8080/",
          "height": 173
        }
      },
      "source": [
        "fakenews.describe()"
      ],
      "execution_count": 15,
      "outputs": [
        {
          "output_type": "execute_result",
          "data": {
            "text/html": [
              "<div>\n",
              "<style scoped>\n",
              "    .dataframe tbody tr th:only-of-type {\n",
              "        vertical-align: middle;\n",
              "    }\n",
              "\n",
              "    .dataframe tbody tr th {\n",
              "        vertical-align: top;\n",
              "    }\n",
              "\n",
              "    .dataframe thead th {\n",
              "        text-align: right;\n",
              "    }\n",
              "</style>\n",
              "<table border=\"1\" class=\"dataframe\">\n",
              "  <thead>\n",
              "    <tr style=\"text-align: right;\">\n",
              "      <th></th>\n",
              "      <th>title</th>\n",
              "      <th>text</th>\n",
              "      <th>subject</th>\n",
              "      <th>date</th>\n",
              "    </tr>\n",
              "  </thead>\n",
              "  <tbody>\n",
              "    <tr>\n",
              "      <th>count</th>\n",
              "      <td>23481</td>\n",
              "      <td>23481</td>\n",
              "      <td>23481</td>\n",
              "      <td>23481</td>\n",
              "    </tr>\n",
              "    <tr>\n",
              "      <th>unique</th>\n",
              "      <td>17903</td>\n",
              "      <td>17455</td>\n",
              "      <td>6</td>\n",
              "      <td>1681</td>\n",
              "    </tr>\n",
              "    <tr>\n",
              "      <th>top</th>\n",
              "      <td>MEDIA IGNORES Time That Bill Clinton FIRED His...</td>\n",
              "      <td></td>\n",
              "      <td>News</td>\n",
              "      <td>May 10, 2017</td>\n",
              "    </tr>\n",
              "    <tr>\n",
              "      <th>freq</th>\n",
              "      <td>6</td>\n",
              "      <td>626</td>\n",
              "      <td>9050</td>\n",
              "      <td>46</td>\n",
              "    </tr>\n",
              "  </tbody>\n",
              "</table>\n",
              "</div>"
            ],
            "text/plain": [
              "                                                    title  ...          date\n",
              "count                                               23481  ...         23481\n",
              "unique                                              17903  ...          1681\n",
              "top     MEDIA IGNORES Time That Bill Clinton FIRED His...  ...  May 10, 2017\n",
              "freq                                                    6  ...            46\n",
              "\n",
              "[4 rows x 4 columns]"
            ]
          },
          "metadata": {
            "tags": []
          },
          "execution_count": 15
        }
      ]
    },
    {
      "cell_type": "code",
      "metadata": {
        "trusted": true,
        "id": "M_BTrTBUy8i9",
        "outputId": "e06b8075-8d28-4b27-e011-54988f9eb3c2",
        "colab": {
          "base_uri": "https://localhost:8080/",
          "height": 173
        }
      },
      "source": [
        "truenews.describe()"
      ],
      "execution_count": 16,
      "outputs": [
        {
          "output_type": "execute_result",
          "data": {
            "text/html": [
              "<div>\n",
              "<style scoped>\n",
              "    .dataframe tbody tr th:only-of-type {\n",
              "        vertical-align: middle;\n",
              "    }\n",
              "\n",
              "    .dataframe tbody tr th {\n",
              "        vertical-align: top;\n",
              "    }\n",
              "\n",
              "    .dataframe thead th {\n",
              "        text-align: right;\n",
              "    }\n",
              "</style>\n",
              "<table border=\"1\" class=\"dataframe\">\n",
              "  <thead>\n",
              "    <tr style=\"text-align: right;\">\n",
              "      <th></th>\n",
              "      <th>title</th>\n",
              "      <th>text</th>\n",
              "      <th>subject</th>\n",
              "      <th>date</th>\n",
              "    </tr>\n",
              "  </thead>\n",
              "  <tbody>\n",
              "    <tr>\n",
              "      <th>count</th>\n",
              "      <td>21417</td>\n",
              "      <td>21417</td>\n",
              "      <td>21417</td>\n",
              "      <td>21417</td>\n",
              "    </tr>\n",
              "    <tr>\n",
              "      <th>unique</th>\n",
              "      <td>20826</td>\n",
              "      <td>21192</td>\n",
              "      <td>2</td>\n",
              "      <td>716</td>\n",
              "    </tr>\n",
              "    <tr>\n",
              "      <th>top</th>\n",
              "      <td>Factbox: Trump fills top jobs for his administ...</td>\n",
              "      <td>(Reuters) - Highlights for U.S. President Dona...</td>\n",
              "      <td>politicsNews</td>\n",
              "      <td>December 20, 2017</td>\n",
              "    </tr>\n",
              "    <tr>\n",
              "      <th>freq</th>\n",
              "      <td>14</td>\n",
              "      <td>8</td>\n",
              "      <td>11272</td>\n",
              "      <td>182</td>\n",
              "    </tr>\n",
              "  </tbody>\n",
              "</table>\n",
              "</div>"
            ],
            "text/plain": [
              "                                                    title  ...                date\n",
              "count                                               21417  ...               21417\n",
              "unique                                              20826  ...                 716\n",
              "top     Factbox: Trump fills top jobs for his administ...  ...  December 20, 2017 \n",
              "freq                                                   14  ...                 182\n",
              "\n",
              "[4 rows x 4 columns]"
            ]
          },
          "metadata": {
            "tags": []
          },
          "execution_count": 16
        }
      ]
    },
    {
      "cell_type": "code",
      "metadata": {
        "trusted": true,
        "id": "BtG_aABQy8jA"
      },
      "source": [
        "truenews['True/Fake']='True'\n",
        "fakenews['True/Fake']='Fake'"
      ],
      "execution_count": 17,
      "outputs": []
    },
    {
      "cell_type": "code",
      "metadata": {
        "trusted": true,
        "id": "54MEVyiWy8jE",
        "outputId": "cbbb2ffb-0029-4d75-8ed9-4b7ae8b1b455",
        "colab": {
          "base_uri": "https://localhost:8080/",
          "height": 589
        }
      },
      "source": [
        "# Combine the 2 DataFrames into a single data frame\n",
        "news = pd.concat([truenews, fakenews])\n",
        "news[\"Article\"] = news[\"title\"] + news[\"text\"]\n",
        "news.sample(frac = 1) #Shuffle 100%"
      ],
      "execution_count": 18,
      "outputs": [
        {
          "output_type": "execute_result",
          "data": {
            "text/html": [
              "<div>\n",
              "<style scoped>\n",
              "    .dataframe tbody tr th:only-of-type {\n",
              "        vertical-align: middle;\n",
              "    }\n",
              "\n",
              "    .dataframe tbody tr th {\n",
              "        vertical-align: top;\n",
              "    }\n",
              "\n",
              "    .dataframe thead th {\n",
              "        text-align: right;\n",
              "    }\n",
              "</style>\n",
              "<table border=\"1\" class=\"dataframe\">\n",
              "  <thead>\n",
              "    <tr style=\"text-align: right;\">\n",
              "      <th></th>\n",
              "      <th>title</th>\n",
              "      <th>text</th>\n",
              "      <th>subject</th>\n",
              "      <th>date</th>\n",
              "      <th>True/Fake</th>\n",
              "      <th>Article</th>\n",
              "    </tr>\n",
              "  </thead>\n",
              "  <tbody>\n",
              "    <tr>\n",
              "      <th>6814</th>\n",
              "      <td>Tennessee Republican Leader Vows Punishing Ta...</td>\n",
              "      <td>It s amazing how quickly  free market values  ...</td>\n",
              "      <td>News</td>\n",
              "      <td>April 19, 2016</td>\n",
              "      <td>Fake</td>\n",
              "      <td>Tennessee Republican Leader Vows Punishing Ta...</td>\n",
              "    </tr>\n",
              "    <tr>\n",
              "      <th>12070</th>\n",
              "      <td>KELLYANNE CONWAY On Trump’s Terrorism Policy: ...</td>\n",
              "      <td>https://www.youtube.com/watch?v=0cVugq2GbBk</td>\n",
              "      <td>politics</td>\n",
              "      <td>Dec 23, 2016</td>\n",
              "      <td>Fake</td>\n",
              "      <td>KELLYANNE CONWAY On Trump’s Terrorism Policy: ...</td>\n",
              "    </tr>\n",
              "    <tr>\n",
              "      <th>16965</th>\n",
              "      <td>North Korea warns threats a 'big miscalculatio...</td>\n",
              "      <td>SYDNEY (Reuters) - North Korea has sent a lett...</td>\n",
              "      <td>worldnews</td>\n",
              "      <td>October 19, 2017</td>\n",
              "      <td>True</td>\n",
              "      <td>North Korea warns threats a 'big miscalculatio...</td>\n",
              "    </tr>\n",
              "    <tr>\n",
              "      <th>3753</th>\n",
              "      <td>Ryan tries to tamp down Comey memo furor, says...</td>\n",
              "      <td>WASHINGTON (Reuters) - U.S. House of Represent...</td>\n",
              "      <td>politicsNews</td>\n",
              "      <td>May 17, 2017</td>\n",
              "      <td>True</td>\n",
              "      <td>Ryan tries to tamp down Comey memo furor, says...</td>\n",
              "    </tr>\n",
              "    <tr>\n",
              "      <th>5123</th>\n",
              "      <td>Highlights: The Trump presidency on March 5 at...</td>\n",
              "      <td>(Reuters) - Highlights of the day for U.S. Pre...</td>\n",
              "      <td>politicsNews</td>\n",
              "      <td>March 6, 2017</td>\n",
              "      <td>True</td>\n",
              "      <td>Highlights: The Trump presidency on March 5 at...</td>\n",
              "    </tr>\n",
              "    <tr>\n",
              "      <th>...</th>\n",
              "      <td>...</td>\n",
              "      <td>...</td>\n",
              "      <td>...</td>\n",
              "      <td>...</td>\n",
              "      <td>...</td>\n",
              "      <td>...</td>\n",
              "    </tr>\n",
              "    <tr>\n",
              "      <th>3632</th>\n",
              "      <td>Bernie Sanders Gets Brutally Honest On ‘Conan...</td>\n",
              "      <td>Bernie Sanders appeared with Conan O Brien on ...</td>\n",
              "      <td>News</td>\n",
              "      <td>November 30, 2016</td>\n",
              "      <td>Fake</td>\n",
              "      <td>Bernie Sanders Gets Brutally Honest On ‘Conan...</td>\n",
              "    </tr>\n",
              "    <tr>\n",
              "      <th>1505</th>\n",
              "      <td>House to vote on federal budget next week: Hou...</td>\n",
              "      <td>WASHINGTON (Reuters) - The U.S. House of Repre...</td>\n",
              "      <td>politicsNews</td>\n",
              "      <td>September 28, 2017</td>\n",
              "      <td>True</td>\n",
              "      <td>House to vote on federal budget next week: Hou...</td>\n",
              "    </tr>\n",
              "    <tr>\n",
              "      <th>8803</th>\n",
              "      <td>Obama must make new budget request for Iraq tr...</td>\n",
              "      <td>WASHINGTON (Reuters) - The Republican chairman...</td>\n",
              "      <td>politicsNews</td>\n",
              "      <td>July 11, 2016</td>\n",
              "      <td>True</td>\n",
              "      <td>Obama must make new budget request for Iraq tr...</td>\n",
              "    </tr>\n",
              "    <tr>\n",
              "      <th>18046</th>\n",
              "      <td>LOL! CROOKED and IRRELEVANT HILLARY CLINTON GO...</td>\n",
              "      <td>Hillary Clinton will be back in the spotlight ...</td>\n",
              "      <td>left-news</td>\n",
              "      <td>Aug 28, 2017</td>\n",
              "      <td>Fake</td>\n",
              "      <td>LOL! CROOKED and IRRELEVANT HILLARY CLINTON GO...</td>\n",
              "    </tr>\n",
              "    <tr>\n",
              "      <th>13221</th>\n",
              "      <td>BOOM! WATCH VP CANDIDATE TIM KAINE “Skirt” The...</td>\n",
              "      <td>Nice try but it s obvious Tim Kaine is coverin...</td>\n",
              "      <td>politics</td>\n",
              "      <td>Aug 18, 2016</td>\n",
              "      <td>Fake</td>\n",
              "      <td>BOOM! WATCH VP CANDIDATE TIM KAINE “Skirt” The...</td>\n",
              "    </tr>\n",
              "  </tbody>\n",
              "</table>\n",
              "<p>44898 rows × 6 columns</p>\n",
              "</div>"
            ],
            "text/plain": [
              "                                                   title  ...                                            Article\n",
              "6814    Tennessee Republican Leader Vows Punishing Ta...  ...   Tennessee Republican Leader Vows Punishing Ta...\n",
              "12070  KELLYANNE CONWAY On Trump’s Terrorism Policy: ...  ...  KELLYANNE CONWAY On Trump’s Terrorism Policy: ...\n",
              "16965  North Korea warns threats a 'big miscalculatio...  ...  North Korea warns threats a 'big miscalculatio...\n",
              "3753   Ryan tries to tamp down Comey memo furor, says...  ...  Ryan tries to tamp down Comey memo furor, says...\n",
              "5123   Highlights: The Trump presidency on March 5 at...  ...  Highlights: The Trump presidency on March 5 at...\n",
              "...                                                  ...  ...                                                ...\n",
              "3632    Bernie Sanders Gets Brutally Honest On ‘Conan...  ...   Bernie Sanders Gets Brutally Honest On ‘Conan...\n",
              "1505   House to vote on federal budget next week: Hou...  ...  House to vote on federal budget next week: Hou...\n",
              "8803   Obama must make new budget request for Iraq tr...  ...  Obama must make new budget request for Iraq tr...\n",
              "18046  LOL! CROOKED and IRRELEVANT HILLARY CLINTON GO...  ...  LOL! CROOKED and IRRELEVANT HILLARY CLINTON GO...\n",
              "13221  BOOM! WATCH VP CANDIDATE TIM KAINE “Skirt” The...  ...  BOOM! WATCH VP CANDIDATE TIM KAINE “Skirt” The...\n",
              "\n",
              "[44898 rows x 6 columns]"
            ]
          },
          "metadata": {
            "tags": []
          },
          "execution_count": 18
        }
      ]
    },
    {
      "cell_type": "code",
      "metadata": {
        "id": "FojCP-d8gn94",
        "outputId": "4c363d88-9ab1-47aa-f60a-4b2931f29281",
        "colab": {
          "base_uri": "https://localhost:8080/",
          "height": 289
        }
      },
      "source": [
        "news.head()"
      ],
      "execution_count": 19,
      "outputs": [
        {
          "output_type": "execute_result",
          "data": {
            "text/html": [
              "<div>\n",
              "<style scoped>\n",
              "    .dataframe tbody tr th:only-of-type {\n",
              "        vertical-align: middle;\n",
              "    }\n",
              "\n",
              "    .dataframe tbody tr th {\n",
              "        vertical-align: top;\n",
              "    }\n",
              "\n",
              "    .dataframe thead th {\n",
              "        text-align: right;\n",
              "    }\n",
              "</style>\n",
              "<table border=\"1\" class=\"dataframe\">\n",
              "  <thead>\n",
              "    <tr style=\"text-align: right;\">\n",
              "      <th></th>\n",
              "      <th>title</th>\n",
              "      <th>text</th>\n",
              "      <th>subject</th>\n",
              "      <th>date</th>\n",
              "      <th>True/Fake</th>\n",
              "      <th>Article</th>\n",
              "    </tr>\n",
              "  </thead>\n",
              "  <tbody>\n",
              "    <tr>\n",
              "      <th>0</th>\n",
              "      <td>As U.S. budget fight looms, Republicans flip t...</td>\n",
              "      <td>WASHINGTON (Reuters) - The head of a conservat...</td>\n",
              "      <td>politicsNews</td>\n",
              "      <td>December 31, 2017</td>\n",
              "      <td>True</td>\n",
              "      <td>As U.S. budget fight looms, Republicans flip t...</td>\n",
              "    </tr>\n",
              "    <tr>\n",
              "      <th>1</th>\n",
              "      <td>U.S. military to accept transgender recruits o...</td>\n",
              "      <td>WASHINGTON (Reuters) - Transgender people will...</td>\n",
              "      <td>politicsNews</td>\n",
              "      <td>December 29, 2017</td>\n",
              "      <td>True</td>\n",
              "      <td>U.S. military to accept transgender recruits o...</td>\n",
              "    </tr>\n",
              "    <tr>\n",
              "      <th>2</th>\n",
              "      <td>Senior U.S. Republican senator: 'Let Mr. Muell...</td>\n",
              "      <td>WASHINGTON (Reuters) - The special counsel inv...</td>\n",
              "      <td>politicsNews</td>\n",
              "      <td>December 31, 2017</td>\n",
              "      <td>True</td>\n",
              "      <td>Senior U.S. Republican senator: 'Let Mr. Muell...</td>\n",
              "    </tr>\n",
              "    <tr>\n",
              "      <th>3</th>\n",
              "      <td>FBI Russia probe helped by Australian diplomat...</td>\n",
              "      <td>WASHINGTON (Reuters) - Trump campaign adviser ...</td>\n",
              "      <td>politicsNews</td>\n",
              "      <td>December 30, 2017</td>\n",
              "      <td>True</td>\n",
              "      <td>FBI Russia probe helped by Australian diplomat...</td>\n",
              "    </tr>\n",
              "    <tr>\n",
              "      <th>4</th>\n",
              "      <td>Trump wants Postal Service to charge 'much mor...</td>\n",
              "      <td>SEATTLE/WASHINGTON (Reuters) - President Donal...</td>\n",
              "      <td>politicsNews</td>\n",
              "      <td>December 29, 2017</td>\n",
              "      <td>True</td>\n",
              "      <td>Trump wants Postal Service to charge 'much mor...</td>\n",
              "    </tr>\n",
              "  </tbody>\n",
              "</table>\n",
              "</div>"
            ],
            "text/plain": [
              "                                               title  ...                                            Article\n",
              "0  As U.S. budget fight looms, Republicans flip t...  ...  As U.S. budget fight looms, Republicans flip t...\n",
              "1  U.S. military to accept transgender recruits o...  ...  U.S. military to accept transgender recruits o...\n",
              "2  Senior U.S. Republican senator: 'Let Mr. Muell...  ...  Senior U.S. Republican senator: 'Let Mr. Muell...\n",
              "3  FBI Russia probe helped by Australian diplomat...  ...  FBI Russia probe helped by Australian diplomat...\n",
              "4  Trump wants Postal Service to charge 'much mor...  ...  Trump wants Postal Service to charge 'much mor...\n",
              "\n",
              "[5 rows x 6 columns]"
            ]
          },
          "metadata": {
            "tags": []
          },
          "execution_count": 19
        }
      ]
    },
    {
      "cell_type": "code",
      "metadata": {
        "trusted": true,
        "id": "OA0ASXF9y8jL"
      },
      "source": [
        "# Data Cleaning\n",
        "import nltk\n",
        "from nltk.corpus import stopwords\n",
        "nltk.download('stopwords')\n",
        "import string\n",
        "def process_text(s):\n",
        "    # Check string to see if they are a punctuation\n",
        "    nopunc = [char for char in s if char not in string.punctuation]\n",
        "    \n",
        "    # Join the characters again to form the string.\n",
        "    nopunc = ''.join(nopunc)\n",
        "    \n",
        "    # Convert string to lowercase and remove stopwords\n",
        "    clean_string = [word for word in nopunc.split() if word.lower() not in stopwords.words('english')]\n",
        "    return clean_string"
      ],
      "execution_count": 21,
      "outputs": []
    },
    {
      "cell_type": "code",
      "metadata": {
        "trusted": true,
        "id": "VPDr4tT3y8jO"
      },
      "source": [
        "# Tokenize the Article\n",
        "news['Clean Text'] = news['Article'].apply(process_text)"
      ],
      "execution_count": 22,
      "outputs": []
    },
    {
      "cell_type": "code",
      "metadata": {
        "trusted": true,
        "id": "EPLyThs8y8jS",
        "outputId": "0d28b4f4-a1fd-4fd5-a996-3dd7f257635d",
        "colab": {
          "base_uri": "https://localhost:8080/",
          "height": 289
        }
      },
      "source": [
        "news.sample(5)"
      ],
      "execution_count": 23,
      "outputs": [
        {
          "output_type": "execute_result",
          "data": {
            "text/html": [
              "<div>\n",
              "<style scoped>\n",
              "    .dataframe tbody tr th:only-of-type {\n",
              "        vertical-align: middle;\n",
              "    }\n",
              "\n",
              "    .dataframe tbody tr th {\n",
              "        vertical-align: top;\n",
              "    }\n",
              "\n",
              "    .dataframe thead th {\n",
              "        text-align: right;\n",
              "    }\n",
              "</style>\n",
              "<table border=\"1\" class=\"dataframe\">\n",
              "  <thead>\n",
              "    <tr style=\"text-align: right;\">\n",
              "      <th></th>\n",
              "      <th>title</th>\n",
              "      <th>text</th>\n",
              "      <th>subject</th>\n",
              "      <th>date</th>\n",
              "      <th>True/Fake</th>\n",
              "      <th>Article</th>\n",
              "      <th>Clean Text</th>\n",
              "    </tr>\n",
              "  </thead>\n",
              "  <tbody>\n",
              "    <tr>\n",
              "      <th>2536</th>\n",
              "      <td>Trump says would be surprised if Iran complian...</td>\n",
              "      <td>WASHINGTON (Reuters) - U.S. President Donald T...</td>\n",
              "      <td>politicsNews</td>\n",
              "      <td>July 26, 2017</td>\n",
              "      <td>True</td>\n",
              "      <td>Trump says would be surprised if Iran complian...</td>\n",
              "      <td>[Trump, says, would, surprised, Iran, complian...</td>\n",
              "    </tr>\n",
              "    <tr>\n",
              "      <th>1053</th>\n",
              "      <td>U.S. partisan split widening over Russia probe...</td>\n",
              "      <td>WASHINGTON (Reuters) - Top Democrats in the U....</td>\n",
              "      <td>politicsNews</td>\n",
              "      <td>October 24, 2017</td>\n",
              "      <td>True</td>\n",
              "      <td>U.S. partisan split widening over Russia probe...</td>\n",
              "      <td>[US, partisan, split, widening, Russia, probe,...</td>\n",
              "    </tr>\n",
              "    <tr>\n",
              "      <th>2412</th>\n",
              "      <td>WATCH: Conservatives Don’t Punch Nazis, They ...</td>\n",
              "      <td>If there is one political ideology that every ...</td>\n",
              "      <td>News</td>\n",
              "      <td>February 23, 2017</td>\n",
              "      <td>Fake</td>\n",
              "      <td>WATCH: Conservatives Don’t Punch Nazis, They ...</td>\n",
              "      <td>[WATCH, Conservatives, Don’t, Punch, Nazis, Gi...</td>\n",
              "    </tr>\n",
              "    <tr>\n",
              "      <th>10053</th>\n",
              "      <td>White House finds temporary fix in Zika fundin...</td>\n",
              "      <td>WASHINGTON (Reuters) - The White House said on...</td>\n",
              "      <td>politicsNews</td>\n",
              "      <td>April 6, 2016</td>\n",
              "      <td>True</td>\n",
              "      <td>White House finds temporary fix in Zika fundin...</td>\n",
              "      <td>[White, House, finds, temporary, fix, Zika, fu...</td>\n",
              "    </tr>\n",
              "    <tr>\n",
              "      <th>9281</th>\n",
              "      <td>WATCH: MEGHAN MCCAIN RIPS Into Joy Behar For H...</td>\n",
              "      <td>The View  co-host, and rabid, liberal, activi...</td>\n",
              "      <td>politics</td>\n",
              "      <td>Dec 4, 2017</td>\n",
              "      <td>Fake</td>\n",
              "      <td>WATCH: MEGHAN MCCAIN RIPS Into Joy Behar For H...</td>\n",
              "      <td>[WATCH, MEGHAN, MCCAIN, RIPS, Joy, Behar, Emba...</td>\n",
              "    </tr>\n",
              "  </tbody>\n",
              "</table>\n",
              "</div>"
            ],
            "text/plain": [
              "                                                   title  ...                                         Clean Text\n",
              "2536   Trump says would be surprised if Iran complian...  ...  [Trump, says, would, surprised, Iran, complian...\n",
              "1053   U.S. partisan split widening over Russia probe...  ...  [US, partisan, split, widening, Russia, probe,...\n",
              "2412    WATCH: Conservatives Don’t Punch Nazis, They ...  ...  [WATCH, Conservatives, Don’t, Punch, Nazis, Gi...\n",
              "10053  White House finds temporary fix in Zika fundin...  ...  [White, House, finds, temporary, fix, Zika, fu...\n",
              "9281   WATCH: MEGHAN MCCAIN RIPS Into Joy Behar For H...  ...  [WATCH, MEGHAN, MCCAIN, RIPS, Joy, Behar, Emba...\n",
              "\n",
              "[5 rows x 7 columns]"
            ]
          },
          "metadata": {
            "tags": []
          },
          "execution_count": 23
        }
      ]
    },
    {
      "cell_type": "code",
      "metadata": {
        "trusted": true,
        "id": "FkwkaVBwy8ja",
        "outputId": "97ebeaa6-60cc-4e01-dbfc-5137efcba03a",
        "colab": {
          "base_uri": "https://localhost:8080/"
        }
      },
      "source": [
        "from sklearn.feature_extraction.text import CountVectorizer\n",
        "bow_transformer = CountVectorizer(analyzer=process_text).fit(news['Clean Text'])\n",
        "print(len(bow_transformer.vocabulary_)) #Total vocab words"
      ],
      "execution_count": 25,
      "outputs": [
        {
          "output_type": "stream",
          "text": [
            "39099\n"
          ],
          "name": "stdout"
        }
      ]
    },
    {
      "cell_type": "code",
      "metadata": {
        "trusted": true,
        "id": "n203ytc4y8jd"
      },
      "source": [
        "#Bag-of-Words (bow) transform the entire DataFrame of text\n",
        "news_bow = bow_transformer.transform(news['Clean Text'])"
      ],
      "execution_count": 26,
      "outputs": []
    },
    {
      "cell_type": "code",
      "metadata": {
        "trusted": true,
        "id": "7j-2Kn1Ey8jg",
        "outputId": "f7ddebed-8128-4175-bff1-4f9920da86b6",
        "colab": {
          "base_uri": "https://localhost:8080/"
        }
      },
      "source": [
        "print('Shape of Sparse Matrix: ', news_bow.shape)\n",
        "print('Amount of Non-Zero occurences: ', news_bow.nnz)"
      ],
      "execution_count": 27,
      "outputs": [
        {
          "output_type": "stream",
          "text": [
            "Shape of Sparse Matrix:  (44898, 39099)\n",
            "Amount of Non-Zero occurences:  44898\n"
          ],
          "name": "stdout"
        }
      ]
    },
    {
      "cell_type": "code",
      "metadata": {
        "trusted": true,
        "id": "vz-x1X9Oy8jj",
        "outputId": "2c1e3a5b-ab1b-48c0-ec6c-74a2a92261b3",
        "colab": {
          "base_uri": "https://localhost:8080/"
        }
      },
      "source": [
        "sparsity = (100.0 * news_bow.nnz / (news_bow.shape[0] * news_bow.shape[1]))\n",
        "print('sparsity: {}'.format(round(sparsity)))"
      ],
      "execution_count": 28,
      "outputs": [
        {
          "output_type": "stream",
          "text": [
            "sparsity: 0\n"
          ],
          "name": "stdout"
        }
      ]
    },
    {
      "cell_type": "code",
      "metadata": {
        "trusted": true,
        "id": "gF0-zRdfy8jr",
        "outputId": "1e51222d-58ad-47a6-fc1f-b28ac544ca48",
        "colab": {
          "base_uri": "https://localhost:8080/"
        }
      },
      "source": [
        "#TF-IDF\n",
        "from sklearn.feature_extraction.text import TfidfTransformer\n",
        "\n",
        "tfidf_transformer = TfidfTransformer().fit(news_bow)\n",
        "news_tfidf = tfidf_transformer.transform(news_bow)\n",
        "print(news_tfidf.shape)"
      ],
      "execution_count": 29,
      "outputs": [
        {
          "output_type": "stream",
          "text": [
            "(44898, 39099)\n"
          ],
          "name": "stdout"
        }
      ]
    },
    {
      "cell_type": "code",
      "metadata": {
        "trusted": true,
        "id": "Z2VNYN3ey8ju"
      },
      "source": [
        "# Train Naive Bayes Model\n",
        "from sklearn.naive_bayes import MultinomialNB\n",
        "fakenews_detect_model = MultinomialNB().fit(news_tfidf, news['True/Fake'])\n"
      ],
      "execution_count": 30,
      "outputs": []
    },
    {
      "cell_type": "code",
      "metadata": {
        "trusted": true,
        "id": "E395oEUwy8j4",
        "outputId": "5042f347-3a56-403c-cd0c-c57f8c970a8c",
        "colab": {
          "base_uri": "https://localhost:8080/"
        }
      },
      "source": [
        "from sklearn.model_selection import train_test_split\n",
        "\n",
        "news_train, news_test, text_train, text_test = train_test_split(news['Article'], news['True/Fake'], test_size=0.3)\n",
        "\n",
        "print(len(news_train), len(news_test), len(news_train) + len(news_test))"
      ],
      "execution_count": 33,
      "outputs": [
        {
          "output_type": "stream",
          "text": [
            "31428 13470 44898\n"
          ],
          "name": "stdout"
        }
      ]
    },
    {
      "cell_type": "code",
      "metadata": {
        "trusted": true,
        "id": "L7G9XPjQy8j7",
        "outputId": "3fa26982-128c-4d14-8208-f0dbedd2bfca",
        "colab": {
          "base_uri": "https://localhost:8080/"
        }
      },
      "source": [
        "from sklearn.pipeline import Pipeline\n",
        "\n",
        "pipeline = Pipeline([\n",
        "    ('bow', CountVectorizer(analyzer=process_text)),  \n",
        "    ('tfidf', TfidfTransformer()),  \n",
        "    ('classifier', MultinomialNB()),  \n",
        "])\n",
        "pipeline.fit(news_train,text_train)"
      ],
      "execution_count": 34,
      "outputs": [
        {
          "output_type": "execute_result",
          "data": {
            "text/plain": [
              "Pipeline(memory=None,\n",
              "         steps=[('bow',\n",
              "                 CountVectorizer(analyzer=<function process_text at 0x7f2174e8f378>,\n",
              "                                 binary=False, decode_error='strict',\n",
              "                                 dtype=<class 'numpy.int64'>, encoding='utf-8',\n",
              "                                 input='content', lowercase=True, max_df=1.0,\n",
              "                                 max_features=None, min_df=1,\n",
              "                                 ngram_range=(1, 1), preprocessor=None,\n",
              "                                 stop_words=None, strip_accents=None,\n",
              "                                 token_pattern='(?u)\\\\b\\\\w\\\\w+\\\\b',\n",
              "                                 tokenizer=None, vocabulary=None)),\n",
              "                ('tfidf',\n",
              "                 TfidfTransformer(norm='l2', smooth_idf=True,\n",
              "                                  sublinear_tf=False, use_idf=True)),\n",
              "                ('classifier',\n",
              "                 MultinomialNB(alpha=1.0, class_prior=None, fit_prior=True))],\n",
              "         verbose=False)"
            ]
          },
          "metadata": {
            "tags": []
          },
          "execution_count": 34
        }
      ]
    },
    {
      "cell_type": "code",
      "metadata": {
        "trusted": true,
        "id": "jUd73te_y8j_"
      },
      "source": [
        "prediction = pipeline.predict(news_test)"
      ],
      "execution_count": 35,
      "outputs": []
    },
    {
      "cell_type": "code",
      "metadata": {
        "trusted": true,
        "id": "rky04PC9y8kE",
        "outputId": "66b822d2-517c-400c-f299-f37e50e9f51d",
        "colab": {
          "base_uri": "https://localhost:8080/"
        }
      },
      "source": [
        "print(classification_report(prediction,text_test))"
      ],
      "execution_count": 36,
      "outputs": [
        {
          "output_type": "stream",
          "text": [
            "              precision    recall  f1-score   support\n",
            "\n",
            "        Fake       0.96      0.98      0.97      6892\n",
            "        True       0.98      0.95      0.97      6578\n",
            "\n",
            "    accuracy                           0.97     13470\n",
            "   macro avg       0.97      0.97      0.97     13470\n",
            "weighted avg       0.97      0.97      0.97     13470\n",
            "\n"
          ],
          "name": "stdout"
        }
      ]
    }
  ]
}